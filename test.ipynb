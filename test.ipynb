{
 "cells": [
  {
   "cell_type": "code",
   "execution_count": 105,
   "source": [
    "import win32com.client\r\n",
    "import pandas as pd\r\n",
    "from tqdm import tqdm"
   ],
   "outputs": [],
   "metadata": {}
  },
  {
   "cell_type": "code",
   "execution_count": 94,
   "source": [
    "code_mgr = win32com.client.Dispatch(\"CpUtil.CpCodeMgr\")\r\n",
    "result = []\r\n",
    "for i in [1, 2, 3]:\r\n",
    "    code_list = code_mgr.GetStockListByMarket(i)\r\n",
    "    for code in code_list:\r\n",
    "        name = code_mgr.CodeToName(code)\r\n",
    "        result.append([code, name])\r\n",
    "df = pd.DataFrame(result, columns=['code', 'name'])\r\n"
   ],
   "outputs": [
    {
     "output_type": "execute_result",
     "data": {
      "text/html": [
       "<div>\n",
       "<style scoped>\n",
       "    .dataframe tbody tr th:only-of-type {\n",
       "        vertical-align: middle;\n",
       "    }\n",
       "\n",
       "    .dataframe tbody tr th {\n",
       "        vertical-align: top;\n",
       "    }\n",
       "\n",
       "    .dataframe thead th {\n",
       "        text-align: right;\n",
       "    }\n",
       "</style>\n",
       "<table border=\"1\" class=\"dataframe\">\n",
       "  <thead>\n",
       "    <tr style=\"text-align: right;\">\n",
       "      <th></th>\n",
       "      <th>code</th>\n",
       "      <th>name</th>\n",
       "    </tr>\n",
       "  </thead>\n",
       "  <tbody>\n",
       "    <tr>\n",
       "      <th>0</th>\n",
       "      <td>A000020</td>\n",
       "      <td>동화약품</td>\n",
       "    </tr>\n",
       "    <tr>\n",
       "      <th>1</th>\n",
       "      <td>A000040</td>\n",
       "      <td>KR모터스</td>\n",
       "    </tr>\n",
       "    <tr>\n",
       "      <th>2</th>\n",
       "      <td>A000050</td>\n",
       "      <td>경방</td>\n",
       "    </tr>\n",
       "    <tr>\n",
       "      <th>3</th>\n",
       "      <td>A000060</td>\n",
       "      <td>메리츠화재</td>\n",
       "    </tr>\n",
       "    <tr>\n",
       "      <th>4</th>\n",
       "      <td>A000070</td>\n",
       "      <td>삼양홀딩스</td>\n",
       "    </tr>\n",
       "    <tr>\n",
       "      <th>...</th>\n",
       "      <td>...</td>\n",
       "      <td>...</td>\n",
       "    </tr>\n",
       "    <tr>\n",
       "      <th>3306</th>\n",
       "      <td>A363230</td>\n",
       "      <td>투니플레이</td>\n",
       "    </tr>\n",
       "    <tr>\n",
       "      <th>3307</th>\n",
       "      <td>A366130</td>\n",
       "      <td>랩토</td>\n",
       "    </tr>\n",
       "    <tr>\n",
       "      <th>3308</th>\n",
       "      <td>A376910</td>\n",
       "      <td>실력산업</td>\n",
       "    </tr>\n",
       "    <tr>\n",
       "      <th>3309</th>\n",
       "      <td>A381530</td>\n",
       "      <td>인동첨단소재</td>\n",
       "    </tr>\n",
       "    <tr>\n",
       "      <th>3310</th>\n",
       "      <td>A387530</td>\n",
       "      <td>로드</td>\n",
       "    </tr>\n",
       "  </tbody>\n",
       "</table>\n",
       "<p>3311 rows × 2 columns</p>\n",
       "</div>"
      ],
      "text/plain": [
       "         code    name\n",
       "0     A000020    동화약품\n",
       "1     A000040   KR모터스\n",
       "2     A000050      경방\n",
       "3     A000060   메리츠화재\n",
       "4     A000070   삼양홀딩스\n",
       "...       ...     ...\n",
       "3306  A363230   투니플레이\n",
       "3307  A366130      랩토\n",
       "3308  A376910    실력산업\n",
       "3309  A381530  인동첨단소재\n",
       "3310  A387530      로드\n",
       "\n",
       "[3311 rows x 2 columns]"
      ]
     },
     "metadata": {},
     "execution_count": 94
    }
   ],
   "metadata": {}
  },
  {
   "cell_type": "code",
   "execution_count": 108,
   "source": [
    "stock_chart = win32com.client.Dispatch(\"CpSysDib.StockChart\")\r\n",
    "\r\n",
    "code_list = code_mgr.GetStockListByMarket(1)\r\n",
    "result = []\r\n",
    "num = 2\r\n",
    "for code in tqdm(code_list[:10]):\r\n",
    "    stock_chart.SetInputValue(0, code)\r\n",
    "    stock_chart.SetInputValue(1, ord('2'))\r\n",
    "    stock_chart.SetInputValue(4, num)\r\n",
    "    stock_chart.SetInputValue(5, (5, 6, 8))\r\n",
    "    stock_chart.SetInputValue(6, ord('D'))\r\n",
    "    stock_chart.SetInputValue(9, ord('1'))\r\n",
    "    stock_chart.BlockRequest()\r\n",
    "    for i in range(num):\r\n",
    "        result.append([code, i, stock_chart.GetDataValue(0, i), stock_chart.GetDataValue(1, i), stock_chart.GetDataValue(2, i)])\r\n",
    "result"
   ],
   "outputs": [
    {
     "output_type": "stream",
     "name": "stderr",
     "text": [
      "100%|██████████| 10/10 [00:00<00:00, 33.00it/s]\n"
     ]
    },
    {
     "output_type": "execute_result",
     "data": {
      "text/plain": [
       "[['A000020', 0, 17950, 150, 4045645],\n",
       " ['A000020', 1, 17800, 2750, 13246110],\n",
       " ['A000040', 0, 1035, -20, 304830],\n",
       " ['A000040', 1, 1055, -10, 231199],\n",
       " ['A000050', 0, 13600, 50, 15961],\n",
       " ['A000050', 1, 13550, -250, 9075],\n",
       " ['A000060', 0, 29600, -500, 209327],\n",
       " ['A000060', 1, 30100, -250, 287636],\n",
       " ['A000070', 0, 118500, -1500, 66319],\n",
       " ['A000070', 1, 120000, -6000, 72721],\n",
       " ['A000075', 0, 70000, -1700, 1868],\n",
       " ['A000075', 1, 71700, -2100, 1188],\n",
       " ['A000080', 0, 33400, -300, 242441],\n",
       " ['A000080', 1, 33700, -350, 596832],\n",
       " ['A000087', 0, 21000, -150, 973],\n",
       " ['A000087', 1, 21150, -150, 4572],\n",
       " ['A000100', 0, 62900, -800, 212707],\n",
       " ['A000100', 1, 63700, -800, 177159],\n",
       " ['A000105', 0, 59600, -400, 923],\n",
       " ['A000105', 1, 60000, 0, 1653]]"
      ]
     },
     "metadata": {},
     "execution_count": 108
    }
   ],
   "metadata": {}
  },
  {
   "cell_type": "code",
   "execution_count": null,
   "source": [
    "result"
   ],
   "outputs": [],
   "metadata": {}
  },
  {
   "cell_type": "code",
   "execution_count": 54,
   "source": [
    "market_eye = win32com.client.Dispatch(\"CpSysDib.MarketEye\")\r\n",
    "market_eye.SetInputValue(0, (4, 67, 70, 96, 111))\r\n",
    "market_eye.SetInputValue(1, 'A003540')\r\n",
    "market_eye.BlockRequest()\r\n",
    "print(\"현재가: \", market_eye.GetDataValue(0, 0))\r\n",
    "print(\"PER: \", market_eye.GetDataValue(1, 0))\r\n",
    "print(\"EPS: \", market_eye.GetDataValue(2, 0))\r\n",
    "print(\"BPS: \", market_eye.GetDataValue(3, 0))\r\n",
    "print(\"최근분기년월: \", market_eye.GetDataValue(4, 0))"
   ],
   "outputs": [
    {
     "output_type": "stream",
     "name": "stdout",
     "text": [
      "현재가:  21000\n",
      "PER:  2.9800000190734863\n",
      "EPS:  7041\n",
      "BPS:  31182\n",
      "최근분기년월:  202106\n"
     ]
    }
   ],
   "metadata": {}
  }
 ],
 "metadata": {
  "orig_nbformat": 4,
  "language_info": {
   "name": "python",
   "version": "3.9.7",
   "mimetype": "text/x-python",
   "codemirror_mode": {
    "name": "ipython",
    "version": 3
   },
   "pygments_lexer": "ipython3",
   "nbconvert_exporter": "python",
   "file_extension": ".py"
  },
  "kernelspec": {
   "name": "python3",
   "display_name": "Python 3.9.7 32-bit"
  },
  "interpreter": {
   "hash": "b8488343e509b415c98a857491a9b4c90395f9a45992da0bb6102fdf120e22ce"
  }
 },
 "nbformat": 4,
 "nbformat_minor": 2
}